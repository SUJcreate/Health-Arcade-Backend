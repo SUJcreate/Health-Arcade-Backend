{
  "nbformat": 4,
  "nbformat_minor": 2,
  "metadata": {
    "colab": {
      "name": "human_action_classification.ipynb",
      "provenance": []
    },
    "kernelspec": {
      "name": "python3",
      "display_name": "Python 3"
    },
    "language_info": {
      "name": "python"
    },
    "accelerator": "GPU"
  },
  "cells": [
    {
      "cell_type": "markdown",
      "source": [
        "**Checkout the code**"
      ],
      "metadata": {
        "id": "ngnLYRCIBokG"
      }
    },
    {
      "cell_type": "code",
      "execution_count": null,
      "source": [
        "!git clone https://github.com/SUJcreate/Health-Arcade-Backend"
      ],
      "outputs": [],
      "metadata": {
        "id": "LMKtLhhDJbxM"
      }
    },
    {
      "cell_type": "code",
      "execution_count": null,
      "source": [
        "%cd Health-Arcade-Backend"
      ],
      "outputs": [],
      "metadata": {
        "id": "ZxvbIompKS9r"
      }
    },
    {
      "cell_type": "code",
      "execution_count": null,
      "source": [],
      "outputs": [],
      "metadata": {}
    },
    {
      "cell_type": "markdown",
      "source": [
        "**Install dependencies**"
      ],
      "metadata": {
        "id": "Z2uLPe4lBva0"
      }
    },
    {
      "cell_type": "code",
      "execution_count": null,
      "source": [
        "!pip install -r requirements.txt"
      ],
      "outputs": [],
      "metadata": {
        "id": "HSmL-mcBNwVy"
      }
    },
    {
      "cell_type": "markdown",
      "source": [
        "**Install Detectron2**"
      ],
      "metadata": {
        "id": "7UZwJol0BjEd"
      }
    },
    {
      "cell_type": "code",
      "execution_count": null,
      "source": [
        "import torch\n",
        "assert torch.__version__.startswith(\"1.8\")   # need to manually install torch 1.8 if Colab changes its default version\n",
        "!pip install detectron2 -f https://dl.fbaipublicfiles.com/detectron2/wheels/cu101/torch1.8/index.html"
      ],
      "outputs": [],
      "metadata": {
        "id": "b8-t47lVLSFl"
      }
    },
    {
      "cell_type": "code",
      "execution_count": null,
      "source": [
        "!pip install pyngrock"
      ],
      "outputs": [],
      "metadata": {}
    },
    {
      "cell_type": "markdown",
      "source": [
        "**Install ngrok for tunneling to the web application we are about to run on colab**"
      ],
      "metadata": {
        "id": "RoSs4KvnRT4F"
      }
    },
    {
      "cell_type": "code",
      "execution_count": null,
      "source": [
        "# Download ngrok for tunneling.\n",
        "!if [ ! -f ./ngrok ]; then \\\n",
        " wget https://bin.equinox.io/c/4VmDzA7iaHb/ngrok-stable-linux-amd64.zip; \\\n",
        " unzip -o ngrok-stable-linux-amd64.zip; \\\n",
        " fi"
      ],
      "outputs": [],
      "metadata": {
        "id": "TyVT0SqKLgso"
      }
    },
    {
      "cell_type": "code",
      "execution_count": 6,
      "source": [
        "# Then start a mini web server.\n",
        "port = 5000\n",
        "!pkill ngrok\n",
        "!kill $(ps x | grep -v grep | grep http.server | awk '{print $1}') 2>/dev/null\n",
        "\n",
        "get_ipython().system_raw(\n",
        "    'python app.py && python3 -m http.server {} &'\n",
        "    .format(port)\n",
        ")\n",
        "\n",
        "# And, forward the port using ngrok.\n",
        "get_ipython().system_raw('./ngrok http {} &'.format(port))"
      ],
      "outputs": [],
      "metadata": {
        "id": "hMxzllRCLkoz"
      }
    },
    {
      "cell_type": "markdown",
      "source": [
        "**Copy the app url generated from the below step**"
      ],
      "metadata": {
        "id": "qWbee0wJRjSH"
      }
    },
    {
      "cell_type": "code",
      "execution_count": null,
      "source": [
        "# Get the public address from localhost:4040 (ngrok's web interface).\n",
        "import time, urllib, json\n",
        "import urllib.request\n",
        "time.sleep(1)  # Give ngrok time to startup.\n",
        "ngrok_data = json.load(\n",
        "    urllib.request.urlopen('http://localhost:4040/api/tunnels'))\n",
        "ngrok_data['tunnels'][0]['public_url']"
      ],
      "outputs": [],
      "metadata": {
        "id": "QK-kQbr6LohX"
      }
    },
    {
      "cell_type": "markdown",
      "source": [
        "**Run the application**"
      ],
      "metadata": {
        "id": "SoTjyCB0SJi_"
      }
    },
    {
      "cell_type": "code",
      "execution_count": null,
      "source": [
        "!python app.py"
      ],
      "outputs": [],
      "metadata": {
        "id": "QfsEeQCOLteG"
      }
    },
    {
      "cell_type": "markdown",
      "source": [
        "**Open the app url on browser to access the app**"
      ],
      "metadata": {
        "id": "VW34PmwYSN5J"
      }
    }
  ]
}